{
 "cells": [
  {
   "cell_type": "markdown",
   "id": "a3ed230b",
   "metadata": {},
   "source": [
    "This exercise is prepared for the **Advanced GIS Spatial Big Data** lecture offered in spring 2023 by Moritz Neun (Zürich) in collaboration with the Chair of Geoinformation Engineering (Institute of Cartography and Geoinformation, ETH Zürich).\n",
    "\n",
    "Date updated: 2023-03-02\n",
    "\n",
    "Instructor: Dr. Moritz Neun\n",
    "\n",
    "Materials are prepared by Moritz Neun partially using previous materials by Dr. Yanan Xin, Henry Martin, and Jannik Hamper."
   ]
  },
  {
   "cell_type": "markdown",
   "id": "0b792cf9",
   "metadata": {},
   "source": [
    "# Discrete Global Grid Systems and Spatial Indices\n",
    "\n",
    "Spatial indexes are commonly used in geospatial databases and file formats. Commonly R-Trees or Quadtrees are used to index the bounding boxes of every geometry in the dataset (see e.g. [1]). This approach can also be described as \"Divide the Objects\" Approach [2] which maintains a balanced tree of all objects with their arrangement in space. However this approach requires that the objects are known before a query is made and that the tree (index) is updated whenever a new object (geometry) is added to the dataset.\n",
    "\n",
    "In contrast, in the “Divide the Space” Approach [2] the total geographic area is subdivided into cells, often arranged hierarchically. In this case, since the total geographic area usually doesn't change, the index doesn't have to be updated when new objects are added. This helps with very large, or permanently updated or streamed data sources. However, the index is usually not as exact and fast for individual object retrieval.\n",
    "\n",
    "A discrete global grid (DGG) is such a space division or tesselation that covers the entire Earth's surface. Mathematically it is a space partitioning: it consists of a set of non-empty regions that form a partition of the Earth's surface [3]. In a usual grid-modeling strategy, each region or region-point in the grid is called a cell. Common types are (see also [4], [5] and [6]:\n",
    "* Non-hierarchical grids (UTM Zones,  TIN DEM)\n",
    "* Hierarchical Grids (ISEA DGGs, Geohash, What3words, PlusCode, S2, H3)\n",
    "* Equal-area hierarchical grids (DGGRID, OpenEAGGR)\n",
    "\n",
    "See also these blogposts for further information:\n",
    "- https://www.uber.com/en-CH/blog/h3/\n",
    "- https://s2geometry.io/devguide/examples/coverings.html\n",
    "\n",
    "\n",
    "### S2 vs H3\n",
    "S2 and H3 are both open source, hierarchical, discrete, and global grid systems (cf. https://h3geo.org/docs/comparisons/s2)\n",
    "\n",
    "H3:\n",
    "- aggregation\n",
    "- visualization\n",
    "- size consistency\n",
    "\n",
    "S2:\n",
    "- indexing\n",
    "- truyly hierarchical\n",
    "\n",
    "both:\n",
    "- joining\n",
    "\n",
    "\n",
    "\n",
    "### References\n",
    "* [1] http://postgis.net/workshops/postgis-intro/indexing.html\n",
    "* [2] https://www.cockroachlabs.com/blog/how-we-built-spatial-indexing/\n",
    "* [3] Sahr, Kevin; White, Denis; Kimerling, A.J. (2003). \"Geodesic discrete global grid systems\" https://doi.org/10.1559/152304003100011090doi:10.1559/152304003100011090\n",
    "* [4] https://en.wikipedia.org/wiki/Discrete_global_grid\n",
    "* [5] https://agile-giss.copernicus.org/articles/3/41/2022/agile-giss-3-41-2022.pdf\n",
    "* [6] https://www.ogc.org/projects/groups/dggsswg\n",
    "\n",
    "\n",
    "Now let's have a deeper look at S2 and H3."
   ]
  },
  {
   "cell_type": "markdown",
   "id": "9b3d5021",
   "metadata": {},
   "source": [
    "## Imports and Helpers Functions\n",
    "\n",
    "see also https://s2sphere.readthedocs.io/en/latest/api.html\n",
    "I you get import errors below (i.e. s2sphere or pyarrow), comment out and run the two following installs."
   ]
  },
  {
   "cell_type": "code",
   "execution_count": null,
   "id": "afbfd507",
   "metadata": {},
   "outputs": [],
   "source": [
    "# !pip install s2sphere\n",
    "# !pip install pyarrow"
   ]
  },
  {
   "cell_type": "code",
   "execution_count": null,
   "id": "dace75fd",
   "metadata": {},
   "outputs": [],
   "source": [
    "import folium\n",
    "import h3\n",
    "import math\n",
    "import s2sphere\n",
    "from IPython.utils.text import columnize\n",
    "\n",
    "def get_bbox(coords):\n",
    "    lat_min = 1e7\n",
    "    lat_max = -1e7\n",
    "    lon_min = 1e7\n",
    "    lon_max = -1e7\n",
    "    for lat, lon in coords:\n",
    "        lat_min = min(lat_min, lat)\n",
    "        lat_max = max(lat_max, lat)\n",
    "        lon_min = min(lon_min, lon)\n",
    "        lon_max = max(lon_max, lon)\n",
    "    return [(lat_min, lon_min), (lat_max, lon_max)]\n",
    "\n",
    "def s2_to_geo_boundary(cell_id):\n",
    "    cell = s2sphere.Cell(cell_id)\n",
    "    boundary = []\n",
    "    for k in range(4):\n",
    "        ll = s2sphere.LatLng.from_point(cell.get_vertex(k))\n",
    "        boundary.append((ll.lat().degrees, ll.lng().degrees))\n",
    "    return boundary\n",
    "\n",
    "def plot_s2(cell_id):\n",
    "    print(cell_id)\n",
    "    return plot_geometries([s2_to_geo_boundary(cell_id)])\n",
    "\n",
    "def plot_s2cells(cell_ids):\n",
    "    polygons = []\n",
    "    for cell_id in cell_ids:\n",
    "        print(cell_id)\n",
    "        polygons.append(s2_to_geo_boundary(cell_id))\n",
    "    return plot_geometries(polygons)\n",
    "    \n",
    "def plot_h3(h):\n",
    "    return plot_geometries([h3.h3_to_geo_boundary(h=h, geo_json=False)])\n",
    "\n",
    "def plot_h3s(h3s):\n",
    "    polygons = []\n",
    "    for h in h3s:\n",
    "        print(h)\n",
    "        polygons.append(h3.h3_to_geo_boundary(h=h, geo_json=False))\n",
    "    return plot_geometries(polygons)\n",
    "\n",
    "def plot_geometries(polygons=[], points=[]):\n",
    "    f = folium.Figure(width=600, height=300)\n",
    "    m = folium.Map(\n",
    "        tiles='https://tiles.stadiamaps.com/tiles/osm_bright/{z}/{x}/{y}{r}.png',\n",
    "        attr='(C) Stadia Maps, (C) OpenMapTiles (C) OpenStreetMap contributors',\n",
    "        zoom_start=20, max_zoom=20).add_to(f)\n",
    "    for polygon in polygons:\n",
    "        folium.Polygon(polygon, color='#ff0000', opacity=1).add_to(m)\n",
    "    for point in points:\n",
    "        folium.Marker(point, color='#0000ff', opacity=1).add_to(m)\n",
    "    bb = get_bbox([c for p in polygons for c in p])\n",
    "    m.fit_bounds(bb)\n",
    "    return m"
   ]
  },
  {
   "cell_type": "markdown",
   "id": "4f2034ad",
   "metadata": {},
   "source": [
    "## Overview S2 and H3"
   ]
  },
  {
   "cell_type": "code",
   "execution_count": null,
   "id": "52f4f828",
   "metadata": {},
   "outputs": [],
   "source": [
    "print('** S2 Functions **\\n')\n",
    "print(columnize(dir(s2sphere), displaywidth=100))\n",
    "print('\\n** H3 Functions **\\n')\n",
    "print(columnize(dir(h3), displaywidth=100))"
   ]
  },
  {
   "cell_type": "markdown",
   "id": "ef4d4a0c",
   "metadata": {},
   "source": [
    "## S2 Examples\n",
    "You can use the `s2sphere` library to get the S2 cell for any coordinates."
   ]
  },
  {
   "cell_type": "code",
   "execution_count": null,
   "id": "4cfc8ad8",
   "metadata": {},
   "outputs": [],
   "source": [
    "cell = s2sphere.Cell.from_lat_lng(\n",
    "    s2sphere.LatLng.from_degrees(47.40821091064011, 8.50744520145277))\n",
    "print(cell)\n",
    "plot_s2(cell.id().parent(21))"
   ]
  },
  {
   "cell_type": "markdown",
   "id": "1d5e7f56",
   "metadata": {},
   "source": [
    "You can your the `parent` method to traverse the hierarchy of the index. Try to set a different hierarchy level in the `parent` method"
   ]
  },
  {
   "cell_type": "code",
   "execution_count": null,
   "id": "3bb28fbb",
   "metadata": {},
   "outputs": [],
   "source": [
    "plot_s2(cell.id().parent(15))"
   ]
  },
  {
   "cell_type": "markdown",
   "id": "6b87ecea",
   "metadata": {},
   "source": [
    "The S2 hierarchy is a perfect subdivision into 4 children."
   ]
  },
  {
   "cell_type": "code",
   "execution_count": null,
   "id": "1e72ba06",
   "metadata": {},
   "outputs": [],
   "source": [
    "plot_s2cells(cell.id().parent(15).children())"
   ]
  },
  {
   "cell_type": "markdown",
   "id": "01d8ce67",
   "metadata": {},
   "source": [
    "## H3 Examples"
   ]
  },
  {
   "cell_type": "markdown",
   "id": "c78a17e0",
   "metadata": {},
   "source": [
    "You can use the h3 library to get the H3 cell for any coordinates. Here the hierarchy level can be set explicitly."
   ]
  },
  {
   "cell_type": "code",
   "execution_count": null,
   "id": "90cb5d96",
   "metadata": {},
   "outputs": [],
   "source": [
    "h = h3.geo_to_h3(47.40821091064011, 8.50744520145277, 15)\n",
    "print(h)\n",
    "plot_h3(h)"
   ]
  },
  {
   "cell_type": "code",
   "execution_count": null,
   "id": "72a58173",
   "metadata": {},
   "outputs": [],
   "source": [
    "h = h3.geo_to_h3(47.40821091064011, 8.50744520145277, 9)\n",
    "print(h)\n",
    "plot_h3(h)"
   ]
  },
  {
   "cell_type": "markdown",
   "id": "30359925",
   "metadata": {},
   "source": [
    "The H3 hierarchy is a subdivision into 7 children.\n"
   ]
  },
  {
   "cell_type": "code",
   "execution_count": null,
   "id": "63f0b86e",
   "metadata": {},
   "outputs": [],
   "source": [
    "h3c = list(h3.h3_to_children(h, 10))\n",
    "plot_h3s(h3c)"
   ]
  },
  {
   "cell_type": "markdown",
   "id": "da90491f",
   "metadata": {},
   "source": [
    "The H3 hierarchy is **not** a perfect subdivision and only matches roughly.\n",
    "So it's not advisable to use combinations of cells at different levels.\n",
    "Note: `plot_h3s` takes a list of H3 cell ids and plots them on an interactive map. "
   ]
  },
  {
   "cell_type": "code",
   "execution_count": null,
   "id": "8d1aaac4",
   "metadata": {},
   "outputs": [],
   "source": [
    "h3c.append(h)\n",
    "plot_h3s(h3c)"
   ]
  },
  {
   "cell_type": "markdown",
   "id": "4f94210e",
   "metadata": {},
   "source": [
    "## Comparsion of S2 and H3\n",
    "https://h3geo.org/docs/comparisons/s2\n",
    "discrete hierarchical spatial index\n",
    "not fully like OGC Discrete Global Grid System (DGGS), https://www.ogc.org/projects/groups/dggsswg ... but close.\n",
    "\n",
    "Typical use-cases and properties\n",
    "\n",
    "H3:\n",
    "- aggregation\n",
    "- visualization\n",
    "- better size consistency\n",
    "\n",
    "S2:\n",
    "- indexing\n",
    "- truyly hierarchical\n",
    "\n",
    "both:\n",
    "- joining"
   ]
  },
  {
   "cell_type": "markdown",
   "id": "16561d1c",
   "metadata": {},
   "source": [
    "## Indexing\n",
    "We now compare the indices of H3 and S2. "
   ]
  },
  {
   "cell_type": "markdown",
   "id": "f570361b",
   "metadata": {},
   "source": [
    "### H3 Index\n",
    "The following shows the indices of the different hierarchy levels of **H3** as hex and base10 "
   ]
  },
  {
   "cell_type": "code",
   "execution_count": null,
   "id": "69e7758b",
   "metadata": {},
   "outputs": [],
   "source": [
    "for l in range(2, 16):\n",
    "    token = h3.geo_to_h3(47.40821091064011, 8.50744520145277, l)\n",
    "    print(f'{token}\\t\\t\\t{int(token, 16):20}')"
   ]
  },
  {
   "cell_type": "markdown",
   "id": "0bd17a4f",
   "metadata": {},
   "source": [
    "### S2 Index\n",
    "The following shows the indices of the different hierarchy levels of **S2** as hex and base10 "
   ]
  },
  {
   "cell_type": "code",
   "execution_count": null,
   "id": "1632809f",
   "metadata": {},
   "outputs": [],
   "source": [
    "cell = s2sphere.Cell.from_lat_lng(s2sphere.LatLng.from_degrees(47.40821091064011, 8.50744520145277))\n",
    "for l in range(2, 30):\n",
    "    token = cell.id().parent(l).to_token()\n",
    "    print(f'{token:<16}\\t\\t{int(token, 16):20}')"
   ]
  },
  {
   "cell_type": "markdown",
   "id": "49950c47",
   "metadata": {},
   "source": [
    "For building a large-scale, distributed map search and reverse-geocoding system the S2 tokens can be stored as text. This means that we can use text search engines location search. One of the great advantages of searching locations as texts for companies is that you only need a single infrastructure to search for text and locations. E.g., Google Search and Google Maps can use the same infrastructure!\n",
    "\n",
    "## Trie as Prefix Search Engine\n",
    "A [trie](https://en.wikipedia.org/wiki/Trie), also called digital tree or prefix tree, is a type of k-ary search tree, a tree data structure used for locating specific keys from within a set. We now use a simple Python Trie implementation to build a basic text search engine on S2 indices."
   ]
  },
  {
   "cell_type": "code",
   "execution_count": null,
   "id": "00581abd",
   "metadata": {},
   "outputs": [],
   "source": [
    "class TrieNode:\n",
    " \n",
    "    def __init__(self, char, data=None):\n",
    "        self.char = char\n",
    "        self.data = data\n",
    "        self.is_end = False\n",
    "        self.children = {}\n",
    "\n",
    "\n",
    "class Trie:\n",
    " \n",
    "    def __init__(self):\n",
    "        self.root = TrieNode(\"\")\n",
    "     \n",
    "    def insert(self, word, data=None):\n",
    "        node = self.root\n",
    "        for char in word:\n",
    "            if char in node.children:\n",
    "                node = node.children[char]\n",
    "            else:\n",
    " \n",
    "                new_node = TrieNode(char, data)\n",
    "                node.children[char] = new_node\n",
    "                node = new_node\n",
    "        node.is_end = True\n",
    "         \n",
    "    def dfs(self, node, pre):\n",
    "        if node.is_end:\n",
    "            self.output.append(((pre + node.char), node.data))\n",
    "        for child in node.children.values():\n",
    "            self.dfs(child, pre + node.char)\n",
    "         \n",
    "    def search(self, x):\n",
    "        node = self.root\n",
    "        for char in x:\n",
    "            if char in node.children:\n",
    "                node = node.children[char]\n",
    "            else:\n",
    "                return []\n",
    "        self.output = []\n",
    "        self.dfs(node, x[:-1])\n",
    "        return self.output"
   ]
  },
  {
   "cell_type": "code",
   "execution_count": null,
   "id": "154721d7",
   "metadata": {},
   "outputs": [],
   "source": [
    "tr = Trie()\n",
    "tr.insert(\"here\")\n",
    "tr.insert(\"hear\")\n",
    "tr.insert(\"he\")\n",
    "tr.insert(\"hello\")\n",
    "tr.insert(\"how \")\n",
    "tr.insert(\"her\")"
   ]
  },
  {
   "cell_type": "code",
   "execution_count": null,
   "id": "28349aa7",
   "metadata": {},
   "outputs": [],
   "source": [
    "%%time\n",
    "tr.search(\"he\")"
   ]
  },
  {
   "cell_type": "markdown",
   "id": "d4e010a8",
   "metadata": {},
   "source": [
    "### Prepare data\n",
    "\n",
    "Initialize 1 M random points in greater Zurich for nearby search."
   ]
  },
  {
   "cell_type": "code",
   "execution_count": null,
   "id": "62a26e2e",
   "metadata": {},
   "outputs": [],
   "source": [
    "import os\n",
    "os.environ['USE_PYGEOS'] = '0'\n",
    "import geopandas\n",
    "import numpy as np\n",
    "import pandas as pd\n",
    "import shapely\n",
    "\n",
    "def create_random_points(overwrite=False):\n",
    "    miny, maxy, minx, maxx = (47.08300, 47.57800, 8.34500, 8.78100)\n",
    "    number = 1000000\n",
    "    x = np.random.uniform(minx, maxx, number)\n",
    "    y = np.random.uniform(miny, maxy, number)\n",
    "    df = pd.DataFrame({'x':x, 'y':y})\n",
    "    gdf = geopandas.GeoDataFrame(df, geometry=geopandas.points_from_xy(df.x, df.y))\n",
    "    gdf = gdf.set_crs('EPSG:4326')\n",
    "    gdf.reset_index(inplace=True)\n",
    "    gdf = gdf.rename(columns={'index': 'uid'})\n",
    "    if overwrite:\n",
    "        tgdf.to_parquet(\"zurich_random_points.parquet\")\n",
    "    return gdf\n",
    "\n",
    "# Load the already generated random points file.\n",
    "# Alternatively call create_random_points to create new ones.\n",
    "gdf = geopandas.read_parquet('zurich_random_points.parquet') # precomputed for stability and speed\n",
    "gdf"
   ]
  },
  {
   "cell_type": "markdown",
   "id": "ce1a76ff",
   "metadata": {},
   "source": [
    "We now generate a cirle as search area with the goal ot later search for all points within this circle"
   ]
  },
  {
   "cell_type": "code",
   "execution_count": null,
   "id": "22231224",
   "metadata": {},
   "outputs": [],
   "source": [
    "from shapely.geometry import Point\n",
    "from functools import partial\n",
    "from shapely.ops import transform\n",
    "from pyproj import Transformer\n",
    "\n",
    "project_to_meters = Transformer.from_crs(\"EPSG:4326\", \"EPSG:3857\", always_xy=True).transform\n",
    "project_to_latlng = Transformer.from_crs(\"EPSG:3857\", \"EPSG:4326\", always_xy=True).transform\n",
    "\n",
    "def buffer_in_meters(lng, lat, radius, quad_segs=3):\n",
    "    pt_latlng = Point(lng, lat)\n",
    "    pt_meters = transform(project_to_meters, pt_latlng)\n",
    "    buffer_meters = pt_meters.buffer(radius, quad_segs=quad_segs)\n",
    "    buffer_latlng = transform(project_to_latlng, buffer_meters)\n",
    "    return buffer_latlng\n",
    "\n",
    "buffer_in_meters(8.73, 47.2, 100)"
   ]
  },
  {
   "cell_type": "markdown",
   "id": "83aaa4d8",
   "metadata": {},
   "source": [
    "### Initialize the search circle and visualize it on a map"
   ]
  },
  {
   "cell_type": "code",
   "execution_count": null,
   "id": "9bf5a778",
   "metadata": {},
   "outputs": [],
   "source": [
    "# TODO initialize a GeoDataFrame containing a circle of approx 100m around the search point.\n",
    "search_circle = ??\n",
    "gdfc = geopandas.GeoDataFrame(geopandas.GeoSeries(search_circle), columns=['geometry'])\n",
    "gdfc = gdfc.set_crs('EPSG:4326')\n",
    "plot_geometries(polygons=[[(y,x) for x,y in search_circle.exterior.coords]])"
   ]
  },
  {
   "cell_type": "markdown",
   "id": "b7e2a74d",
   "metadata": {},
   "source": [
    "### Search for all points within the circle using a for loop"
   ]
  },
  {
   "cell_type": "code",
   "execution_count": null,
   "id": "b40c7f11",
   "metadata": {},
   "outputs": [],
   "source": [
    "%%time\n",
    "# TODO do an simple for loop over `gdf` to find the rows that intersect the `search_circle` geometry.\n",
    "for ??\n"
   ]
  },
  {
   "cell_type": "markdown",
   "id": "8be450bc",
   "metadata": {},
   "source": [
    "### Search for all points within the circle using Pandas\n",
    "\n",
    "Use the pandas overlay function to identify all points within the search circle.\n",
    "hint: Here is the relevant documentation [https://geopandas.org/en/stable/docs/user_guide/set_operations.html](https://geopandas.org/en/stable/docs/user_guide/set_operations.html)"
   ]
  },
  {
   "cell_type": "code",
   "execution_count": null,
   "id": "e6f34a7b",
   "metadata": {},
   "outputs": [],
   "source": [
    "%%time\n",
    "# TODO do an intersection search using the gdfc polygon on the points in gdf.\n",
    "gdfi = ??\n",
    "gdfi"
   ]
  },
  {
   "cell_type": "markdown",
   "id": "f96e9dd4",
   "metadata": {},
   "source": [
    "### Investigating the Pandas spatial index\n",
    "Pandas uses the PyGEOSSTRTreeIndex. We can see that by calling `.sindex` on the geometry column. \n",
    "Note that by calling `.sindex` we are initializing the index i.e. building the RTree which makes querying it later faster."
   ]
  },
  {
   "cell_type": "code",
   "execution_count": null,
   "id": "c2714447",
   "metadata": {},
   "outputs": [],
   "source": [
    "%%time\n",
    "gdf['geometry'].sindex"
   ]
  },
  {
   "cell_type": "markdown",
   "id": "779c6c87",
   "metadata": {},
   "source": [
    "With the index already built, the identification of the indices of the geometries is extremly fast!"
   ]
  },
  {
   "cell_type": "code",
   "execution_count": null,
   "id": "f1000e4e",
   "metadata": {},
   "outputs": [],
   "source": [
    "%%time\n",
    "gdf['geometry'].sindex.query(search_circle, predicate='intersects')"
   ]
  },
  {
   "cell_type": "code",
   "execution_count": null,
   "id": "d0afbbeb",
   "metadata": {},
   "outputs": [],
   "source": [
    "%%timeit\n",
    "gdf['geometry'].sindex.query(search_circle, predicate='intersects')"
   ]
  },
  {
   "cell_type": "markdown",
   "id": "9ac0a93e",
   "metadata": {},
   "source": [
    "There is still some overhead for retrieving the rows based on the index"
   ]
  },
  {
   "cell_type": "code",
   "execution_count": null,
   "id": "30b21fd4",
   "metadata": {},
   "outputs": [],
   "source": [
    "%%time\n",
    "gdf.loc[gdf['geometry'].sindex.query(search_circle, predicate='intersects')]"
   ]
  },
  {
   "cell_type": "markdown",
   "id": "1ae9592e",
   "metadata": {},
   "source": [
    "#### Plot the results"
   ]
  },
  {
   "cell_type": "code",
   "execution_count": null,
   "id": "c99002a9",
   "metadata": {},
   "outputs": [],
   "source": [
    "plot_geometries(polygons=[[(y,x) for x,y in search_circle.exterior.coords]],\n",
    "                points=[ll for ll in zip(gdfi['y'], gdfi['x'])])"
   ]
  },
  {
   "cell_type": "markdown",
   "id": "08e3bd50",
   "metadata": {},
   "source": [
    "### Evaluation of S2 for spatial indexing\n",
    "\n",
    "#### Built S2 index in the data\n",
    "Add the S2 cells as fixed grid index. This step is the first step of building a (spatial) S2 index. Your implementation is in Python and will therefore be a bit slow. In practice this could be speed up further if necessary. "
   ]
  },
  {
   "cell_type": "code",
   "execution_count": null,
   "id": "e994db7f",
   "metadata": {},
   "outputs": [],
   "source": [
    "# TODO compute a new column \"s2cell\" containing the hex token of the S2 cell ID for every point (x,y).\n",
    "gdf['s2cell'] = ??\n",
    "gdf"
   ]
  },
  {
   "cell_type": "markdown",
   "id": "6c99bf50",
   "metadata": {},
   "source": [
    "#### Identify S2 index of the query\n",
    "Find the S2 cell that corresponds to the search circle. For now, we take the S2 cell of level 16 (about 200 meters in size) where the circle center lies in."
   ]
  },
  {
   "cell_type": "code",
   "execution_count": null,
   "id": "18eed3f8",
   "metadata": {},
   "outputs": [],
   "source": [
    "s2search = s2sphere.Cell.from_lat_lng(\n",
    "    s2sphere.LatLng.from_degrees(47.2, 8.73)).id().parent(16)\n",
    "s2token = s2search.to_token()\n",
    "print(s2token)\n",
    "plot_geometries(polygons=[s2_to_geo_boundary(s2search)])"
   ]
  },
  {
   "cell_type": "markdown",
   "id": "7836de55",
   "metadata": {},
   "source": [
    "#### Prefix search using Pandas startswith\n",
    "Note: \n",
    "- We have stored the S2 cell id where the circle is located in, in the variable `s2search` \n",
    "- Pandas `startswith` identifies all strings that start with the string \"s2token\" in a for loop like way"
   ]
  },
  {
   "cell_type": "code",
   "execution_count": null,
   "id": "68c8cab3",
   "metadata": {},
   "outputs": [],
   "source": [
    "%%time\n",
    "print(s2search)\n",
    "gdfs = gdf[gdf['s2cell'].str.startswith(s2token)]\n",
    "gdfs"
   ]
  },
  {
   "cell_type": "code",
   "execution_count": null,
   "id": "04744c58",
   "metadata": {},
   "outputs": [],
   "source": [
    "plot_geometries(polygons=[s2_to_geo_boundary(s2search)], points=[ll for ll in zip(gdfs['y'], gdfs['x'])])"
   ]
  },
  {
   "cell_type": "markdown",
   "id": "9f3c435c",
   "metadata": {},
   "source": [
    "### Prefix search using our custom Trie\n",
    "##### Build the Trie"
   ]
  },
  {
   "cell_type": "code",
   "execution_count": null,
   "id": "2882fc0c",
   "metadata": {},
   "outputs": [],
   "source": [
    "%%time\n",
    "gtr = Trie()\n",
    "for c, i, x, y in zip(gdf['s2cell'], gdf['uid'], gdf['x'], gdf['y']):\n",
    "    gtr.insert(c, (i, x, y))"
   ]
  },
  {
   "cell_type": "code",
   "execution_count": null,
   "id": "7bdd70c7",
   "metadata": {},
   "outputs": [],
   "source": [
    "s2token"
   ]
  },
  {
   "cell_type": "markdown",
   "id": "a619d25d",
   "metadata": {},
   "source": [
    "#### Search using Trie"
   ]
  },
  {
   "cell_type": "code",
   "execution_count": null,
   "id": "22be0f2d",
   "metadata": {},
   "outputs": [],
   "source": [
    "%%time\n",
    "gtr.search(s2token)"
   ]
  },
  {
   "cell_type": "code",
   "execution_count": null,
   "id": "87265b58",
   "metadata": {},
   "outputs": [],
   "source": [
    "%%timeit\n",
    "gtr.search(s2token)"
   ]
  },
  {
   "cell_type": "markdown",
   "id": "eb850f5c",
   "metadata": {},
   "source": [
    "#### S2 Coverings for approximating geometries\n",
    "\n",
    "In the example with a circle, a single S2 cell usually is not a very good approximation of the geometry.\n",
    "In that case the S2RegionCoverer is able to approximate any given geometry with a set of S2 cells.\n",
    "\n",
    "For more information https://s2geometry.io/devguide/examples/coverings.html"
   ]
  },
  {
   "cell_type": "code",
   "execution_count": null,
   "id": "4898171a",
   "metadata": {
    "scrolled": false
   },
   "outputs": [],
   "source": [
    "from s2sphere import RegionCoverer, Cap, LatLng, Angle\n",
    "\n",
    "coverer = RegionCoverer()\n",
    "coverer.max_cells = 50\n",
    "coverer.min_level = 17\n",
    "coverer.max_level = 18\n",
    "\n",
    "lat, lng = (47.2, 8.73)\n",
    "radius_m = 150\n",
    "latlng = LatLng.from_degrees(float(lat), float(lng)).normalized().to_point()\n",
    "earth_radius_m = 6.371 * 1e12\n",
    "region = Cap(latlng, radius_m / earth_radius_m)\n",
    "print(region)\n",
    "\n",
    "covering = coverer.get_covering(region)\n",
    "\n",
    "plot_s2cells(covering)\n",
    "\n",
    "### Include circle in plot"
   ]
  },
  {
   "cell_type": "markdown",
   "id": "282f4e55",
   "metadata": {},
   "source": [
    "S2 tokens and their children/parent token can have the same length and only a difference in the last character. Hence, in order to make the S2 search tokens prefix searchable, we use the children tokens and omit the last character. This gives us all possible token-prefix combinations that are valid. If you are interested, you can find further information at https://s2geometry.io/devguide/s2cell_hierarchy"
   ]
  },
  {
   "cell_type": "code",
   "execution_count": null,
   "id": "97c021b3",
   "metadata": {},
   "outputs": [],
   "source": [
    "def covering_to_prefixes(covering):\n",
    "    tokens = set()\n",
    "    for c in covering:\n",
    "        for ch in c.children():\n",
    "            tokens.add(ch.to_token()[:-1])\n",
    "    return tokens\n",
    "        \n",
    "covering_prefixes = covering_to_prefixes(covering)\n",
    "print(covering_prefixes)"
   ]
  },
  {
   "cell_type": "markdown",
   "id": "ab040f9b",
   "metadata": {},
   "source": [
    "We now have to search our dataset for every prefix in the covering prefixes"
   ]
  },
  {
   "cell_type": "code",
   "execution_count": null,
   "id": "1d59c8d4",
   "metadata": {},
   "outputs": [],
   "source": [
    "%%time\n",
    "#TODO implement a simple search in the Trie (variable `gtr`) to find all points\n",
    "#that are matching the `covering_prefixes`\n",
    "results = set()\n",
    "for ??\n",
    "print(results)"
   ]
  },
  {
   "cell_type": "markdown",
   "id": "8c06382f",
   "metadata": {},
   "source": [
    "So with this approximation we're receiving roughly the same results as with the previous pandas circle search.\n",
    "The speed equals roughly the pure index retrieval of the PGEOS R-Tree index used in Pandas without the additional overhead for retrieving the data.\n",
    "For exact results we would need to perform an intersect between the search circle and the candidate points."
   ]
  },
  {
   "cell_type": "code",
   "execution_count": null,
   "id": "fec64c0e",
   "metadata": {},
   "outputs": [],
   "source": [
    "plot_geometries(polygons=[s2_to_geo_boundary(c) for c in covering],\n",
    "                points=[(i[2],i[1]) for c, i in results])"
   ]
  },
  {
   "cell_type": "markdown",
   "id": "f50288ae",
   "metadata": {},
   "source": [
    "Here are the pandas results as a reference"
   ]
  },
  {
   "cell_type": "code",
   "execution_count": null,
   "id": "88d756d7",
   "metadata": {},
   "outputs": [],
   "source": [
    "plot_geometries(polygons=[[(y,x) for x,y in search_circle.exterior.coords]],\n",
    "                points=[ll for ll in zip(gdfi['y'], gdfi['x'])])"
   ]
  }
 ],
 "metadata": {
  "jupytext": {
   "encoding": "# -*- coding: utf-8 -*-",
   "text_representation": {
    "extension": ".py",
    "format_name": "light",
    "format_version": "1.5",
    "jupytext_version": "1.11.2"
   }
  },
  "kernelspec": {
   "display_name": "Python 3",
   "language": "python",
   "name": "python3"
  },
  "language_info": {
   "codemirror_mode": {
    "name": "ipython",
    "version": 3
   },
   "file_extension": ".py",
   "mimetype": "text/x-python",
   "name": "python",
   "nbconvert_exporter": "python",
   "pygments_lexer": "ipython3",
   "version": "3.8.2"
  }
 },
 "nbformat": 4,
 "nbformat_minor": 5
}
